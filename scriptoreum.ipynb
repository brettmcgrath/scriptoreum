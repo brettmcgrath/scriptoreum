{
 "cells": [
  {
   "cell_type": "code",
   "execution_count": 7,
   "metadata": {},
   "outputs": [],
   "source": [
    "from GoogleNews import GoogleNews\n",
    "from fpdf import FPDF, HTMLMixin\n",
    "from newspaper import Article\n",
    "import newspaper\n",
    "import time\n",
    "\n",
    "class MyFPDF(FPDF, HTMLMixin):\n",
    "    pass\n"
   ]
  },
  {
   "cell_type": "code",
   "execution_count": 8,
   "metadata": {},
   "outputs": [],
   "source": [
    "googlenews = GoogleNews()"
   ]
  },
  {
   "cell_type": "code",
   "execution_count": 9,
   "metadata": {},
   "outputs": [],
   "source": [
    "googlenews.set_lang('en')\n",
    "googlenews.set_period('1d')\n",
    "# googlenews.set_time_range('02/01/2020','02/28/2020')\n",
    "googlenews.set_encode('utf-8')"
   ]
  },
  {
   "cell_type": "code",
   "execution_count": 10,
   "metadata": {},
   "outputs": [
    {
     "data": {
      "text/plain": [
       "True"
      ]
     },
     "execution_count": 10,
     "metadata": {},
     "output_type": "execute_result"
    }
   ],
   "source": [
    "def includes(small_list, big_list):\n",
    "    count = 0\n",
    "    for i in small_list:\n",
    "        if i in big_list:\n",
    "            count+=1\n",
    "        else:\n",
    "            count+=0\n",
    "    if count > 0:\n",
    "        return True\n",
    "    else:\n",
    "        return False\n",
    "    \n",
    "        \n",
    "small_list = [1, 2, 3]\n",
    "big_list = [4, 5, 6, 7, 8, 1, 2]\n",
    "\n",
    "includes(small_list, big_list)"
   ]
  },
  {
   "cell_type": "code",
   "execution_count": 11,
   "metadata": {},
   "outputs": [],
   "source": [
    "topic_list = ['PARSIQ', 'XRP']"
   ]
  },
  {
   "cell_type": "code",
   "execution_count": 24,
   "metadata": {},
   "outputs": [
    {
     "name": "stdout",
     "output_type": "stream",
     "text": [
      "article count: 56\n",
      "title count: 56\n",
      "link count: 187\n",
      "----------------\n",
      "['XRP vs XLM — Which Will Perform Better In June?', 'XRP adds 20% as Ether also rebounds', 'Ethereum, Litecoin, and Ripple’s XRP – Daily Tech Analysis – June 1st, 2021', 'XRP Price Forecast: Ripple primed to surge to $1.30', 'BTC, ETH, XRP, XMR, CRV, KSM, NEAR—Technical Analysis June 1', 'XRP Climbs 12% In a Green Day By Investing.com', 'Top 3 Price Prediction Bitcoin, Ethereum, Ripple: Crypto market rally pauses for pullback', 'XRP Scales $1 Pulling In Double-Digit Increase On The Day', 'XRP Cryptocurrency Went Up By Over 16% In The Last 24 Hours', 'Shiba Inu Surges 17% As Crypto Market Recovers On Memorial Day, Aave, Chainlink Among Top Gainers', 'Bitcoin, Ethereum, And Altcoins Consolidate Gains', 'Bitcoin and Ethereum Extend Gains, AAVE and THETA Rally', 'Cryptos recovery continues with bitcoin reaches $36,717', 'Ripple Reveals Its Plans For Achieving Carbon Net-Zero Within Ten Years', 'Ethereum, Cardano and XRP: Analysts bet that these alts could pull this off', 'Ripple (XRP) More Efficient than the USD in the Visa Network', 'Bitcoin Cash, Dogecoin, XRP Price Analysis: 31 May', 'XRP Jumps 21% In Bullish Trade By Investing.com', 'Ethereum (ETH) Holders \"In Crowd Doubt\": Analysts. Here\\'s How It Ended Last Time', 'Ripple Effect : Controlling the burn', 'Buckingham plans 187-unit apartment complex along Monon Trail in Broad Ripple', 'Horror and heartbreak ripple across region after mass grave discovery', '‘Ripple effect’: Impact of road trauma hits home', 'Top Companies – Mesosphere, DASH, Bitpay, Shapeshift, Bittrex, Factom Inc, Coinbase, Ripple – KSU', 'Ethereum (ETH) Closes Prior Hour Down -0.2%; Moves Up For the 2nd Consecutive Day, in an Uptrend Over Past 90 Days', 'Cardano Climbs 10% In Bullish Trade By Investing.com', 'Mark Cuban Ironically Denies Referring to Cardano in DAO Assessment', 'Cardano leads tepid crypto market recovery ahead of Memorial Day By Cointelegraph', 'Cryptocurrency Buy Entry Levels June 2021: Cardano (ADA) And Polygon (MATIC)', 'ADAX – State-of-the-Art Decentralized Exchange Protocol Built on the Cardano Network', 'Cryptocurrency INR price today June 1 2021: Bitcoin, Ethereum, Dogecoin, Shiba Inu and other top coins-Check where they stand as of now', \"Shiba Inu, Ethereum Classic, Polygon — May's Best Performing Cryptos\", 'Ethereum, Cardano, Binance Coin Price Analysis: 31 May', '3 potential bullish catalysts for Ethereum price in June', 'Cryptocurrency Price Check: Bitcoin, Ethereum, Dogecoin Ease', 'Top Cryptocurrency Prices Today: Polkadot, Ethereum, Dogecoin gain up to 18%', 'Top cryptocurrency prices today: Bitcoin, Dogecoin, Ethereum', 'Want to reduce the risks of investing in Bitcoin, Dogecoin and Ethereum? Here are a few strategies from experts', 'Ethereum Extends Gains to Rise 8 Percent; Bitcoin Firms', 'Ethereum price draws closer to the ultimate launch aiming for $4,000', \"Ethereum's adjusted on-chain volume, miner revenues reached new highs in May\", 'Matter Labs Unveils zkSync 2.0 to Solve Ethereum Trilemma', 'With Mark Cuban as investor, Indian blockchain startup Polygon is solving Ethereum’s scalability problems', 'Ethereum Shows Strong Signs of Returning to ATH of $4000 By CoinQuora', 'Digimax Global Launches Cryptohawk.Ai - An Artificial Intelligence Bitcoin and Ethereum Price Trend Prediction Solution', 'Transaction fees for bitcoin and ether drop to a 6-month low as crypto market activity dwindles following May selloff', 'Ethereum unable to move past 2800 [Video]', 'Computex 2021: Nvidia GeForce RTX 3080 Ti flagship GPU with ‘reduced’ Ethereum hash rate announced', 'Bitcoin, Ethereum start the week strong as countries clarify stance on crypto regulations', 'Boerse Stuttgart Digital Exchange Now Offering Mobile App for Bitcoin, Ethereum, Litecoin, XRP Trading', 'Goldman Sachs Says Crypto Could Power Data Economy', 'Cryptocurrencies Price Prediction: Ethereum, Pancake Swab & Litecoin — Asian Wrap 1 June', 'ICP Price Slightly Up Now, Internet Computer and Ethereum Announces Network Integration', 'Forget Ethereum: 1 Canadian Stock to Buy in June 2021', 'Ethereum Cryptocurrency Went Up By Over 13% In The Last 24 Hours', 'Cardano Climbs 10.10% In Rally By Investing.com']\n"
     ]
    }
   ],
   "source": [
    "links_with_https = []\n",
    "for topic in topic_list:    \n",
    "    googlenews.get_news(topic)\n",
    "    google_titles = googlenews.get_texts()\n",
    "    google_links = googlenews.get_links()\n",
    "    googlenews.clear()\n",
    "    for i in google_links:\n",
    "        if f'https://{i}' not in links_with_https:\n",
    "            links_with_https.append(f'https://{i}')\n",
    "        else:\n",
    "            pass\n",
    "    \n",
    "titles = []\n",
    "count = 0\n",
    "pdf = MyFPDF()\n",
    "pdf = MyFPDF()\n",
    "pdf.set_font('Arial', 'B', 12)\n",
    "for url in links_with_https:\n",
    "    html = \"\"\n",
    "    time.sleep(1)\n",
    "    article = Article(url, language='en')\n",
    "    article.download()\n",
    "    try:\n",
    "        article.parse()\n",
    "        article.nlp()\n",
    "        keywords = article.keywords\n",
    "        if includes(keywords, topic_list) == True:\n",
    "            count+=1\n",
    "            author = article.authors\n",
    "            title = article.title\n",
    "            titles.append(title)\n",
    "            text = article.text.replace('\\n', '<br>')\n",
    "            html += f'<h3>{title}</h3><br><br>By: {author}<br><br>{text}<br>'\n",
    "            pdf.add_page()\n",
    "            pdf.write_html(html.encode('ascii', 'ignore').decode())\n",
    "        else:\n",
    "            pass\n",
    "    except:\n",
    "        pass\n",
    "    \n",
    "\n",
    "pdf.set_font('Arial', 'B', 12)\n",
    "#First page\n",
    "\n",
    "\n",
    "pdf.output('html.pdf', 'F')\n",
    "\n",
    "print(f'article count: {count}')\n",
    "print(f'title count: {len(titles)}')\n",
    "print(f'link count: {len(links_with_https)}')\n",
    "print('----------------')\n",
    "print(titles)"
   ]
  },
  {
   "cell_type": "code",
   "execution_count": 26,
   "metadata": {},
   "outputs": [
    {
     "name": "stdout",
     "output_type": "stream",
     "text": [
      "Title: XRP adds 20% as Ether also rebounds found on page: 2\n",
      "Title: XRP Climbs 12% In a Green Day By Investing.com found on page: 7\n",
      "Title: Top 3 Price Prediction Bitcoin, Ethereum, Ripple: Crypto market rally pauses for pullback found on page: 8\n",
      "Title: XRP Cryptocurrency Went Up By Over 16% In The Last 24 Hours found on page: 11\n",
      "Title: Bitcoin, Ethereum, And Altcoins Consolidate Gains found on page: 14\n",
      "Title: Bitcoin and Ethereum Extend Gains, AAVE and THETA Rally found on page: 16\n",
      "Title: Ripple Reveals Its Plans For Achieving Carbon Net-Zero Within Ten Years found on page: 19\n",
      "Title: Ethereum, Cardano and XRP: Analysts bet that these alts could pull this off found on page: 20\n",
      "Title: Bitcoin Cash, Dogecoin, XRP Price Analysis: 31 May found on page: 23\n",
      "Title: XRP Jumps 21% In Bullish Trade By Investing.com found on page: 24\n",
      "Title: Ripple Effect : Controlling the burn found on page: 26\n",
      "Title: Buckingham plans 187-unit apartment complex along Monon Trail in Broad Ripple found on page: 27\n",
      "Title: Horror and heartbreak ripple across region after mass grave discovery found on page: 28\n",
      "Title: Cardano Climbs 10% In Bullish Trade By Investing.com found on page: 36\n",
      "Title: Mark Cuban Ironically Denies Referring to Cardano in DAO Assessment found on page: 37\n",
      "Title: Cardano leads tepid crypto market recovery ahead of Memorial Day By Cointelegraph found on page: 38\n",
      "Title: Ethereum, Cardano, Binance Coin Price Analysis: 31 May found on page: 46\n",
      "Title: 3 potential bullish catalysts for Ethereum price in June found on page: 47\n",
      "Title: Cryptocurrency Price Check: Bitcoin, Ethereum, Dogecoin Ease found on page: 49\n",
      "Title: Top Cryptocurrency Prices Today: Polkadot, Ethereum, Dogecoin gain up to 18% found on page: 50\n",
      "Title: Top cryptocurrency prices today: Bitcoin, Dogecoin, Ethereum found on page: 52\n",
      "Title: Ethereum Extends Gains to Rise 8 Percent; Bitcoin Firms found on page: 55\n",
      "Title: Ethereum's adjusted on-chain volume, miner revenues reached new highs in May found on page: 57\n",
      "Title: Matter Labs Unveils zkSync 2.0 to Solve Ethereum Trilemma found on page: 58\n",
      "Title: Bitcoin, Ethereum start the week strong as countries clarify stance on crypto regulations found on page: 70\n",
      "Title: Goldman Sachs Says Crypto Could Power Data Economy found on page: 72\n",
      "Title: ICP Price Slightly Up Now, Internet Computer and Ethereum Announces Network Integration found on page: 75\n",
      "Title: Forget Ethereum: 1 Canadian Stock to Buy in June 2021 found on page: 76\n",
      "Title: Ethereum Cryptocurrency Went Up By Over 13% In The Last 24 Hours found on page: 78\n",
      "Title: Cardano Climbs 10.10% In Rally By Investing.com found on page: 80\n"
     ]
    }
   ],
   "source": [
    "# from PyPDF2 import PdfFileWriter, PdfFileReader\n",
    "# output = PdfFileWriter()\n",
    "# input1 = PdfFileReader(open('introduction.pdf', 'rb'))\n",
    "# output.addPage(input1.getPage(0))\n",
    "# input2 = PdfFileReader(open('hello.pdf', 'rb'))\n",
    "# output.addPage(input2.getPage(0))\n",
    "\n",
    "# parent = output.addBookmark('Introduction', 0) # add parent bookmark\n",
    "# output.addBookmark('Hello, World', 0, parent) # add child bookmark\n",
    "\n",
    "\n",
    "import PyPDF2\n",
    "import re\n",
    "\n",
    "# Open the pdf file\n",
    "object = PyPDF2.PdfFileReader(r\".\\html.pdf\")\n",
    "\n",
    "# Get number of pages\n",
    "NumPages = object.getNumPages()\n",
    "bookmarks = {}\n",
    "\n",
    "\n",
    "for i in titles:\n",
    "    # Enter code here\n",
    "    String = i\n",
    "\n",
    "    # Extract text and do the search\n",
    "    for j in range(0, NumPages):\n",
    "        PageObj = object.getPage(j)\n",
    "        Text = PageObj.extractText()\n",
    "        if re.search(String,Text):\n",
    "            bookmarks[i] = j\n",
    "            print(f'Title: {i} found on page: {j}')"
   ]
  },
  {
   "cell_type": "code",
   "execution_count": 27,
   "metadata": {},
   "outputs": [
    {
     "data": {
      "text/plain": [
       "{'XRP adds 20% as Ether also rebounds': 2,\n",
       " 'XRP Climbs 12% In a Green Day By Investing.com': 7,\n",
       " 'Top 3 Price Prediction Bitcoin, Ethereum, Ripple: Crypto market rally pauses for pullback': 8,\n",
       " 'XRP Cryptocurrency Went Up By Over 16% In The Last 24 Hours': 11,\n",
       " 'Bitcoin, Ethereum, And Altcoins Consolidate Gains': 14,\n",
       " 'Bitcoin and Ethereum Extend Gains, AAVE and THETA Rally': 16,\n",
       " 'Ripple Reveals Its Plans For Achieving Carbon Net-Zero Within Ten Years': 19,\n",
       " 'Ethereum, Cardano and XRP: Analysts bet that these alts could pull this off': 20,\n",
       " 'Bitcoin Cash, Dogecoin, XRP Price Analysis: 31 May': 23,\n",
       " 'XRP Jumps 21% In Bullish Trade By Investing.com': 24,\n",
       " 'Ripple Effect : Controlling the burn': 26,\n",
       " 'Buckingham plans 187-unit apartment complex along Monon Trail in Broad Ripple': 27,\n",
       " 'Horror and heartbreak ripple across region after mass grave discovery': 28,\n",
       " 'Cardano Climbs 10% In Bullish Trade By Investing.com': 36,\n",
       " 'Mark Cuban Ironically Denies Referring to Cardano in DAO Assessment': 37,\n",
       " 'Cardano leads tepid crypto market recovery ahead of Memorial Day By Cointelegraph': 38,\n",
       " 'Ethereum, Cardano, Binance Coin Price Analysis: 31 May': 46,\n",
       " '3 potential bullish catalysts for Ethereum price in June': 47,\n",
       " 'Cryptocurrency Price Check: Bitcoin, Ethereum, Dogecoin Ease': 49,\n",
       " 'Top Cryptocurrency Prices Today: Polkadot, Ethereum, Dogecoin gain up to 18%': 50,\n",
       " 'Top cryptocurrency prices today: Bitcoin, Dogecoin, Ethereum': 52,\n",
       " 'Ethereum Extends Gains to Rise 8 Percent; Bitcoin Firms': 55,\n",
       " \"Ethereum's adjusted on-chain volume, miner revenues reached new highs in May\": 57,\n",
       " 'Matter Labs Unveils zkSync 2.0 to Solve Ethereum Trilemma': 58,\n",
       " 'Bitcoin, Ethereum start the week strong as countries clarify stance on crypto regulations': 70,\n",
       " 'Goldman Sachs Says Crypto Could Power Data Economy': 72,\n",
       " 'ICP Price Slightly Up Now, Internet Computer and Ethereum Announces Network Integration': 75,\n",
       " 'Forget Ethereum: 1 Canadian Stock to Buy in June 2021': 76,\n",
       " 'Ethereum Cryptocurrency Went Up By Over 13% In The Last 24 Hours': 78,\n",
       " 'Cardano Climbs 10.10% In Rally By Investing.com': 80}"
      ]
     },
     "execution_count": 27,
     "metadata": {},
     "output_type": "execute_result"
    }
   ],
   "source": [
    "bookmarks"
   ]
  }
 ],
 "metadata": {
  "kernelspec": {
   "display_name": "Python 3",
   "language": "python",
   "name": "python3"
  },
  "language_info": {
   "codemirror_mode": {
    "name": "ipython",
    "version": 3
   },
   "file_extension": ".py",
   "mimetype": "text/x-python",
   "name": "python",
   "nbconvert_exporter": "python",
   "pygments_lexer": "ipython3",
   "version": "3.8.5"
  }
 },
 "nbformat": 4,
 "nbformat_minor": 4
}
